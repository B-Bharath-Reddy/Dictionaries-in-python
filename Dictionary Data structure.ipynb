{
 "cells": [
  {
   "cell_type": "code",
   "execution_count": null,
   "id": "3547efc8",
   "metadata": {},
   "outputs": [],
   "source": [
    "# dictionary is unordered sequence of character or items\n",
    "# Dictionaries are mutable type\n",
    "# dictionaries are indexed by keys, which can be any immutable type\n",
    "# It is best to think of a dictionary as a set of key: value pairs, with the requirement that the keys are unique\n",
    "# The main operations on a dictionary are storing a value with some key and extracting the value given the key."
   ]
  },
  {
   "cell_type": "code",
   "execution_count": 1,
   "id": "c6fead14",
   "metadata": {},
   "outputs": [
    {
     "name": "stdout",
     "output_type": "stream",
     "text": [
      "{1: 'hello', 2: 'iam', 3: 'Bharath'}\n"
     ]
    }
   ],
   "source": [
    "my_dicti = {1:\"hello\",2:\"iam\",3:\"Bharath\"}  # keys as a number\n",
    "print(my_dicti)"
   ]
  },
  {
   "cell_type": "code",
   "execution_count": 11,
   "id": "cff178d3",
   "metadata": {},
   "outputs": [
    {
     "name": "stdout",
     "output_type": "stream",
     "text": [
      "{'name': 'Bharath', 'age': 22, 'Education': 'Btech'}\n"
     ]
    }
   ],
   "source": [
    "my_dict = dict()\n",
    "my_dict = {\"name\":\"Bharath\",\"age\":22,\"Education\":\"Btech\"}  # keys as a str or char\n",
    "print(my_dict)"
   ]
  },
  {
   "cell_type": "code",
   "execution_count": 12,
   "id": "0bddcf05",
   "metadata": {},
   "outputs": [
    {
     "name": "stdout",
     "output_type": "stream",
     "text": [
      "{'name': 'Bharath', 'age': 22, 'Education': 'Btech', 1: 'rank'}\n"
     ]
    }
   ],
   "source": [
    "my_dict = {\"name\":\"Bharath\",\"age\":22,\"Education\":\"Btech\",1:\"rank\"}  # keys are number and str or char\n",
    "print(my_dict)"
   ]
  },
  {
   "cell_type": "code",
   "execution_count": 16,
   "id": "73122b43",
   "metadata": {},
   "outputs": [
    {
     "name": "stdout",
     "output_type": "stream",
     "text": [
      "60\n"
     ]
    }
   ],
   "source": [
    "my_dict = {\"fruit\":\"apple\",\"vegetable\":\"tamota\",\"price\":60}\n",
    "print(my_dict[\"price\"])                            # accessing the key by using dict[] "
   ]
  },
  {
   "cell_type": "code",
   "execution_count": 17,
   "id": "0e38b2f2",
   "metadata": {},
   "outputs": [
    {
     "ename": "KeyError",
     "evalue": "'place'",
     "output_type": "error",
     "traceback": [
      "\u001b[1;31m---------------------------------------------------------------------------\u001b[0m",
      "\u001b[1;31mKeyError\u001b[0m                                  Traceback (most recent call last)",
      "Cell \u001b[1;32mIn[17], line 2\u001b[0m\n\u001b[0;32m      1\u001b[0m my_dict \u001b[38;5;241m=\u001b[39m {\u001b[38;5;124m\"\u001b[39m\u001b[38;5;124mfruit\u001b[39m\u001b[38;5;124m\"\u001b[39m:\u001b[38;5;124m\"\u001b[39m\u001b[38;5;124mapple\u001b[39m\u001b[38;5;124m\"\u001b[39m,\u001b[38;5;124m\"\u001b[39m\u001b[38;5;124mvegetable\u001b[39m\u001b[38;5;124m\"\u001b[39m:\u001b[38;5;124m\"\u001b[39m\u001b[38;5;124mtamota\u001b[39m\u001b[38;5;124m\"\u001b[39m,\u001b[38;5;124m\"\u001b[39m\u001b[38;5;124mprice\u001b[39m\u001b[38;5;124m\"\u001b[39m:\u001b[38;5;241m60\u001b[39m}\n\u001b[1;32m----> 2\u001b[0m \u001b[38;5;28mprint\u001b[39m(my_dict[\u001b[38;5;124m\"\u001b[39m\u001b[38;5;124mplace\u001b[39m\u001b[38;5;124m\"\u001b[39m])\n",
      "\u001b[1;31mKeyError\u001b[0m: 'place'"
     ]
    }
   ],
   "source": [
    "my_dict = {\"fruit\":\"apple\",\"vegetable\":\"tamota\",\"price\":60}\n",
    "                                              # when we try to access a key that is not in a dict it will give key error\n",
    "print(my_dict[\"place\"])   #KeyError: 'place'        \n",
    "                                                 "
   ]
  },
  {
   "cell_type": "code",
   "execution_count": 18,
   "id": "b723778a",
   "metadata": {},
   "outputs": [
    {
     "name": "stdout",
     "output_type": "stream",
     "text": [
      "60\n"
     ]
    }
   ],
   "source": [
    "my_dict = {\"fruit\":\"apple\",\"vegetable\":\"tamota\",\"price\":60}\n",
    "print(my_dict.get(\"price\"))             # accessing the key by using dict.get()method"
   ]
  },
  {
   "cell_type": "code",
   "execution_count": 19,
   "id": "490f13a1",
   "metadata": {},
   "outputs": [
    {
     "name": "stdout",
     "output_type": "stream",
     "text": [
      "None\n"
     ]
    }
   ],
   "source": [
    "my_dict = {\"fruit\":\"apple\",\"vegetable\":\"tamota\",\"price\":60}\n",
    "print(my_dict.get(\"place\"))             # accessing the key which is not in a dict it will give just None"
   ]
  },
  {
   "cell_type": "code",
   "execution_count": 13,
   "id": "5d2e1197",
   "metadata": {},
   "outputs": [
    {
     "name": "stdout",
     "output_type": "stream",
     "text": [
      "{'name': 'Bharath', 'age': 22, 'Education': 'Btech', 1: 'rank'}\n",
      "{'name': 'Bharath', 'age': 22, 'Education': 'Btech', 1: 'rank', 'cell no': 630109}\n"
     ]
    }
   ],
   "source": [
    "my_dict = {\"name\":\"Bharath\",\"age\":22,\"Education\":\"Btech\",1:\"rank\"}\n",
    "\n",
    "print(my_dict)\n",
    "my_dict [\"cell no\"] = 630109          # adding new key value pair to the dictionary\n",
    "print(my_dict)\n"
   ]
  },
  {
   "cell_type": "code",
   "execution_count": 20,
   "id": "2ef5aa72",
   "metadata": {},
   "outputs": [
    {
     "name": "stdout",
     "output_type": "stream",
     "text": [
      "{'name': 'Bharath', 'age': 22, 'Education': 'Btech', 1: 'rank'}\n",
      "{'name': 'Bharath', 'age': 22, 'Education': 'Btech', 1: 'rank', 'cell no': 630109}\n",
      "rank\n",
      "{'name': 'Bharath', 'age': 22, 'Education': 'Btech', 'cell no': 630109}\n"
     ]
    }
   ],
   "source": [
    "my_dict = {\"name\":\"Bharath\",\"age\":22,\"Education\":\"Btech\",1:\"rank\"}\n",
    "\n",
    "print(my_dict)\n",
    "my_dict [\"cell no\"] = 630109\n",
    "print(my_dict)\n",
    "print(my_dict.pop(1))               # pop method to remove key value pair in the dictionary\n",
    "print(my_dict)"
   ]
  },
  {
   "cell_type": "code",
   "execution_count": 22,
   "id": "1a9bb60d",
   "metadata": {},
   "outputs": [
    {
     "name": "stdout",
     "output_type": "stream",
     "text": [
      "{'name': 'Bharath', 'age': 22, 'Education': 'Btech', 1: 'rank'}\n",
      "{'name': 'Bharath', 'age': 22, 'Education': 'Btech', 1: 'rank', 'cell no': 630109}\n",
      "('cell no', 630109)\n",
      "{'name': 'Bharath', 'age': 22, 'Education': 'Btech', 1: 'rank'}\n"
     ]
    }
   ],
   "source": [
    "my_dict = {\"name\":\"Bharath\",\"age\":22,\"Education\":\"Btech\",1:\"rank\"}\n",
    "\n",
    "print(my_dict)\n",
    "my_dict [\"cell no\"] = 630109\n",
    "print(my_dict)\n",
    "print(my_dict.popitem())               # popitem method to remove any arbitary key value pair in the dictionary\n",
    "print(my_dict)"
   ]
  },
  {
   "cell_type": "code",
   "execution_count": 15,
   "id": "7cf8e18f",
   "metadata": {},
   "outputs": [
    {
     "name": "stdout",
     "output_type": "stream",
     "text": [
      "{'name': 'Bharath', 'age': 22, 'Education': 'Btech', 1: 'rank'}\n",
      "{'name': 'Bharath', 'age': 22, 'Education': 'Btech', 1: 'rank', 'cell no': 630109}\n",
      "{'name': 'Bharath', 'age': 22, 'Education': 'Btech', 'cell no': 630109}\n"
     ]
    }
   ],
   "source": [
    "my_dict = {\"name\":\"Bharath\",\"age\":22,\"Education\":\"Btech\",1:\"rank\"}\n",
    "\n",
    "print(my_dict)\n",
    "my_dict [\"cell no\"] = 630109\n",
    "print(my_dict)\n",
    "del my_dict[1]                 # del dict []  key value pair in the dictionary\n",
    "print(my_dict)\n"
   ]
  },
  {
   "cell_type": "code",
   "execution_count": 23,
   "id": "1d708a5e",
   "metadata": {},
   "outputs": [
    {
     "name": "stdout",
     "output_type": "stream",
     "text": [
      "{'name': 'Bharath', 'age': 22, 'Education': 'Btech', 1: 'rank'}\n",
      "{'name': 'Bharath', 'age': 22, 'Education': 'Btech', 1: 'rank', 'cell no': 630109}\n"
     ]
    },
    {
     "ename": "NameError",
     "evalue": "name 'my_dict' is not defined",
     "output_type": "error",
     "traceback": [
      "\u001b[1;31m---------------------------------------------------------------------------\u001b[0m",
      "\u001b[1;31mNameError\u001b[0m                                 Traceback (most recent call last)",
      "Cell \u001b[1;32mIn[23], line 7\u001b[0m\n\u001b[0;32m      5\u001b[0m \u001b[38;5;28mprint\u001b[39m(my_dict)\n\u001b[0;32m      6\u001b[0m \u001b[38;5;28;01mdel\u001b[39;00m my_dict              \u001b[38;5;66;03m# pop method to remove key value pair in the dictionary\u001b[39;00m\n\u001b[1;32m----> 7\u001b[0m \u001b[38;5;28mprint\u001b[39m(my_dict)\n",
      "\u001b[1;31mNameError\u001b[0m: name 'my_dict' is not defined"
     ]
    }
   ],
   "source": [
    "my_dict = {\"name\":\"Bharath\",\"age\":22,\"Education\":\"Btech\",1:\"rank\"}\n",
    "\n",
    "print(my_dict)\n",
    "my_dict [\"cell no\"] = 630109\n",
    "print(my_dict)\n",
    "del my_dict              # del method to remove the dictionary \n",
    "print(my_dict)           # name 'my_dict' is not defined\n"
   ]
  },
  {
   "cell_type": "code",
   "execution_count": 27,
   "id": "d9b33408",
   "metadata": {},
   "outputs": [
    {
     "name": "stdout",
     "output_type": "stream",
     "text": [
      "{'name': 'Bharath', 'age': 22, 'Education': 'Btech', 1: 'rank'}\n",
      "{'name': 'Bharath', 'age': 22, 'Education': 'Btech', 1: 'rank', 'cell no': 630109}\n",
      "None\n"
     ]
    }
   ],
   "source": [
    "my_dict = {\"name\":\"Bharath\",\"age\":22,\"Education\":\"Btech\",1:\"rank\"}\n",
    "\n",
    "print(my_dict)\n",
    "my_dict [\"cell no\"] = 630109\n",
    "print(my_dict)\n",
    "                             # clear method to remove the dictionary \n",
    "print(my_dict.clear()) "
   ]
  },
  {
   "cell_type": "code",
   "execution_count": 31,
   "id": "b3e8f488",
   "metadata": {},
   "outputs": [
    {
     "name": "stdout",
     "output_type": "stream",
     "text": [
      "{'Name': 'Hitler', 'Age': 23, 'Place': 'India', 'Degree': 'Mech'}\n",
      "{'Name': 'Hitler', 'Age': 23, 'Place': 'India', 'Degree': 'Mech'}\n"
     ]
    }
   ],
   "source": [
    "my_dict = {\"Name\":\"Hitler\",\"Age\":23,\"Place\":\"India\",\"Degree\":\"Mech\"}\n",
    "print(my_dict)\n",
    "my_dict1 = my_dict.copy()   # copy method to make duplicate dictionary or to create one more dict\n",
    "print(my_dict1)"
   ]
  },
  {
   "cell_type": "code",
   "execution_count": 33,
   "id": "52afd8b1",
   "metadata": {},
   "outputs": [
    {
     "name": "stdout",
     "output_type": "stream",
     "text": [
      "{'maths': 0, 'english': 0, 'science': 0}\n"
     ]
    }
   ],
   "source": [
    "my_dict = {} .fromkeys(['maths','english','science'],0)   # for all keys having same value\n",
    "print(my_dict)"
   ]
  },
  {
   "cell_type": "code",
   "execution_count": 35,
   "id": "eb10a00b",
   "metadata": {},
   "outputs": [
    {
     "name": "stdout",
     "output_type": "stream",
     "text": [
      "dict_keys(['Name', 'Age', 'Place', 'Degree'])\n"
     ]
    }
   ],
   "source": [
    "my_dict = {\"Name\":\"Hitler\",\"Age\":23,\"Place\":\"India\",\"Degree\":\"Mech\"} \n",
    "print(my_dict.keys())                         #  keys method to get all keys in a dict"
   ]
  },
  {
   "cell_type": "code",
   "execution_count": 36,
   "id": "06ce9076",
   "metadata": {},
   "outputs": [
    {
     "name": "stdout",
     "output_type": "stream",
     "text": [
      "dict_values(['Hitler', 23, 'India', 'Mech'])\n"
     ]
    }
   ],
   "source": [
    "my_dict = {\"Name\":\"Hitler\",\"Age\":23,\"Place\":\"India\",\"Degree\":\"Mech\"}\n",
    "print(my_dict.values())                       # values method to get all keys in a dict"
   ]
  },
  {
   "cell_type": "code",
   "execution_count": 37,
   "id": "51736e26",
   "metadata": {},
   "outputs": [
    {
     "name": "stdout",
     "output_type": "stream",
     "text": [
      "dict_items([('Name', 'Hitler'), ('Age', 23), ('Place', 'India'), ('Degree', 'Mech')])\n"
     ]
    }
   ],
   "source": [
    "my_dict = {\"Name\":\"Hitler\",\"Age\":23,\"Place\":\"India\",\"Degree\":\"Mech\"}\n",
    "print(my_dict.items())                  "
   ]
  },
  {
   "cell_type": "code",
   "execution_count": 38,
   "id": "940feefd",
   "metadata": {},
   "outputs": [
    {
     "name": "stdout",
     "output_type": "stream",
     "text": [
      "{'Name': 'Hitler', 'Age': 23, 'Place': 'India', 'Degree': 'Mech'}\n"
     ]
    }
   ],
   "source": [
    "my_dict = {\"Name\":\"Hitler\",\"Age\":23,\"Place\":\"India\",\"Degree\":\"Mech\"}\n",
    "new_dict =  {k:v for k,v in my_dict.items()} # another way to create a new dict with existing dict\n",
    "print(new_dict)"
   ]
  },
  {
   "cell_type": "code",
   "execution_count": 40,
   "id": "a6833b43",
   "metadata": {},
   "outputs": [
    {
     "name": "stdout",
     "output_type": "stream",
     "text": [
      "{'d': 4, 'e': 5, 'f': 6}\n"
     ]
    }
   ],
   "source": [
    "my_dict = {'a':1,'b':2,'c':3,'d':4,'e':5,'f':6}\n",
    "new ={k:v for k,v in my_dict.items() if v >3}  # creating neew dict with exixting dic with specific attributes\n",
    "print(new)"
   ]
  },
  {
   "cell_type": "code",
   "execution_count": 41,
   "id": "e2df3acf",
   "metadata": {},
   "outputs": [
    {
     "name": "stdout",
     "output_type": "stream",
     "text": [
      "{'dx': 8, 'ex': 10, 'fx': 12}\n"
     ]
    }
   ],
   "source": [
    "my_dict = {'a':1,'b':2,'c':3,'d':4,'e':5,'f':6}\n",
    "new ={k + 'x':v * 2 for k,v in my_dict.items() if v >3}\n",
    "print(new)"
   ]
  },
  {
   "cell_type": "code",
   "execution_count": null,
   "id": "50cc8af5",
   "metadata": {},
   "outputs": [],
   "source": []
  }
 ],
 "metadata": {
  "kernelspec": {
   "display_name": "Python 3 (ipykernel)",
   "language": "python",
   "name": "python3"
  },
  "language_info": {
   "codemirror_mode": {
    "name": "ipython",
    "version": 3
   },
   "file_extension": ".py",
   "mimetype": "text/x-python",
   "name": "python",
   "nbconvert_exporter": "python",
   "pygments_lexer": "ipython3",
   "version": "3.11.3"
  }
 },
 "nbformat": 4,
 "nbformat_minor": 5
}
